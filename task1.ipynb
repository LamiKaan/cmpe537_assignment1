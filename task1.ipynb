{
 "cells": [
  {
   "cell_type": "code",
   "id": "initial_id",
   "metadata": {
    "collapsed": true,
    "ExecuteTime": {
     "end_time": "2024-10-20T17:15:11.179823Z",
     "start_time": "2024-10-20T17:15:11.175233Z"
    }
   },
   "source": [
    "import os\n",
    "from PIL import Image\n",
    "import numpy as np\n",
    "import matplotlib.pyplot as plt\n",
    "from enum import Enum\n",
    "import time\n",
    "\n",
    "\n",
    "class Init(Enum):\n",
    "    MANUAL = 0\n",
    "    RANDOM = 1\n",
    "\n",
    "\n",
    "# Image number to be processed for task1\n",
    "image_id = 2\n",
    "# Number of quantized colors\n",
    "k = 32\n",
    "# Variable to decide initialization mode of color centers (manually or randomly)\n",
    "initialization = Init.RANDOM\n",
    "# Limit for the iterations i of the k-means algorithm\n",
    "max_iterations = 100"
   ],
   "outputs": [],
   "execution_count": 231
  },
  {
   "metadata": {
    "ExecuteTime": {
     "end_time": "2024-10-20T17:15:14.390886Z",
     "start_time": "2024-10-20T17:15:14.385671Z"
    }
   },
   "cell_type": "code",
   "source": [
    "def get_path_for_image(image_id):\n",
    "    # Get directory of image files relative to this file's directory\n",
    "    image_dir = os.path.join(os.getcwd(), 'data', 'images', 'task_1')\n",
    "    # Get image path for the provided image id\n",
    "    image_path = os.path.join(image_dir, 'image0{}.jpeg'.format(image_id))\n",
    "\n",
    "    return image_path\n",
    "\n",
    "\n",
    "def initialize_manually(image, k):\n",
    "    pass\n",
    "\n",
    "def initialize_randomly(image_matrix, k):\n",
    "    # Create a numpy random number generator instance\n",
    "    rng = np.random.default_rng(seed=537)\n",
    "\n",
    "    # Generate k amount of random numbers (floats) between 0 and height of the image\n",
    "    # Then, floor and convert to integer\n",
    "    color_centers_heights = np.uint(np.floor(rng.uniform(low=0, high=image_matrix.shape[0], size=k)))\n",
    "    # Generate k amount of random numbers (floats) between 0 and width of the image\n",
    "    # Then, floor and convert to integer\n",
    "    color_centers_widths = np.uint(np.floor(rng.uniform(low=0, high=image_matrix.shape[1], size=k)))\n",
    "\n",
    "    # Stack height and width vectors column-wise into a matrix of shape [k, 2]\n",
    "    # Each row representing a color center (x, y)\n",
    "    color_centers = np.stack((color_centers_heights, color_centers_widths), axis=1)\n",
    "\n",
    "    return color_centers"
   ],
   "id": "6b2e6888345f4bf3",
   "outputs": [],
   "execution_count": 232
  },
  {
   "metadata": {
    "ExecuteTime": {
     "end_time": "2024-10-20T17:15:16.113556Z",
     "start_time": "2024-10-20T17:15:16.079376Z"
    }
   },
   "cell_type": "code",
   "source": [
    "# Get path of image for given image id\n",
    "image_path = get_path_for_image(image_id)\n",
    "# Open the image using Pillow\n",
    "image = Image.open(image_path)\n",
    "\n",
    "# Convert the image to a numpy array of shape H x W x 3(RGB)\n",
    "image_matrix = np.array(image)\n",
    "# Create a new broadcast version of the image matrix of shape (H, W, 1, 3)\n",
    "broadcast_image_matrix = image_matrix[:, :, np.newaxis, :].astype(dtype=np.int64)\n",
    "\n",
    "# Initialize a cluster map with the same shape of the image where each\n",
    "# coordinate (pixel) stores the index of the cluster it belongs to\n",
    "initial_clusters = np.zeros(image_matrix.shape[0:2], image_matrix.dtype)\n",
    "\n",
    "# Initialize color centers\n",
    "if initialization == Init.MANUAL:\n",
    "    initial_color_centers = initialize_manually(image, k)\n",
    "else:\n",
    "    initial_color_centers = initialize_randomly(image_matrix, k)\n",
    "    \n",
    "# Create variables to hold final results\n",
    "final_clusters = None\n",
    "final_color_centers = None"
   ],
   "id": "e1bdcce3b5b5a64f",
   "outputs": [],
   "execution_count": 233
  },
  {
   "metadata": {
    "ExecuteTime": {
     "end_time": "2024-10-20T17:19:18.359116Z",
     "start_time": "2024-10-20T17:15:17.381187Z"
    }
   },
   "cell_type": "code",
   "source": [
    "# Start the k-means algorithm\n",
    "input_clusters = initial_clusters\n",
    "input_color_centers = initial_color_centers\n",
    "iterations = 0\n",
    "total_time = 0\n",
    "while True:\n",
    "    iterations+=1\n",
    "    start = time.time()\n",
    "    \n",
    "    # Retrieve RGB color vectors of input color centers of shape k x 3\n",
    "    input_colors = image_matrix[input_color_centers[:, 0], input_color_centers[:, 1], :]\n",
    "    # Create a new broadcast version of the input color matrix of shape (1, 1, k, 3)\n",
    "    broadcast_input_colors = input_colors[np.newaxis, np.newaxis, :, :].astype(dtype=np.int64)\n",
    "    \n",
    "    # We need to calculate the distance of each pixel's color, to the colors of every color center.\n",
    "    # Instead of doing this one pixel at a time with nested for loops, calculate as a whole via \n",
    "    # numpy vector operations (the reason why we created broadcast versions of the matrices)\n",
    "    color_distances = np.sum(((broadcast_image_matrix - broadcast_input_colors)**2), axis=3)\n",
    "    # Return the index of the minimum value along the distance axis (assign each pixel the\n",
    "    # index of the closest color center)\n",
    "    output_clusters = np.argmin(color_distances, axis=2)\n",
    "    \n",
    "    # Create a variable to store the new color centers based on new clusters\n",
    "    output_color_centers = None\n",
    "    \n",
    "    for i in range(k):\n",
    "        # Retrieve pixel coordinates for the current cluster index\n",
    "        cluster_i_coordinates = np.argwhere(output_clusters == i)\n",
    "        \n",
    "        # Check if there are pixels assigned to the current cluster\n",
    "        if len(cluster_i_coordinates) > 0:\n",
    "            # Take the mean of the coordinates, floor and convert to integer\n",
    "            new_ith_color_center = np.floor(np.mean(cluster_i_coordinates, axis=0)).astype(np.int64)\n",
    "        else:\n",
    "            # If the cluster is empty, keep the old color center\n",
    "            new_ith_color_center = input_color_centers[i]\n",
    "        \n",
    "        \n",
    "        if output_color_centers is None:\n",
    "            output_color_centers = new_ith_color_center\n",
    "        else:\n",
    "            output_color_centers = np.vstack((output_color_centers, new_ith_color_center))\n",
    "            \n",
    "    if np.array_equal(output_clusters, input_clusters) or iterations >= max_iterations:\n",
    "        final_clusters = output_clusters\n",
    "        final_color_centers = output_color_centers\n",
    "        \n",
    "        end = time.time()\n",
    "        round_time = (end - start) * 1000\n",
    "        total_time += (end - start)\n",
    "        print(f\"Round {iterations}: {round_time:.2f} ms\")\n",
    "        print(f\"Total time: {total_time:.2f} seconds\")\n",
    "        break\n",
    "    else:\n",
    "        input_clusters = output_clusters\n",
    "        input_color_centers = output_color_centers\n",
    "        \n",
    "        end = time.time()\n",
    "        round_time = (end - start) * 1000\n",
    "        total_time += (end - start)\n",
    "        print(f\"Round {iterations}: {round_time:.2f} ms\")\n",
    "    "
   ],
   "id": "78cae66a76766a63",
   "outputs": [
    {
     "name": "stdout",
     "output_type": "stream",
     "text": [
      "Round 1: 3029.04 ms\n",
      "Round 2: 2515.00 ms\n",
      "Round 3: 2424.57 ms\n",
      "Round 4: 2390.11 ms\n",
      "Round 5: 2394.93 ms\n",
      "Round 6: 2419.87 ms\n",
      "Round 7: 2838.75 ms\n",
      "Round 8: 2421.51 ms\n",
      "Round 9: 2406.39 ms\n",
      "Round 10: 2378.48 ms\n",
      "Round 11: 2368.83 ms\n",
      "Round 12: 2447.60 ms\n",
      "Round 13: 2361.26 ms\n",
      "Round 14: 2360.48 ms\n",
      "Round 15: 2319.87 ms\n",
      "Round 16: 2306.97 ms\n",
      "Round 17: 2301.78 ms\n",
      "Round 18: 2348.10 ms\n",
      "Round 19: 2308.45 ms\n",
      "Round 20: 2331.17 ms\n",
      "Round 21: 2389.36 ms\n",
      "Round 22: 2348.68 ms\n",
      "Round 23: 2326.43 ms\n",
      "Round 24: 2292.04 ms\n",
      "Round 25: 2315.05 ms\n",
      "Round 26: 2297.10 ms\n",
      "Round 27: 2542.40 ms\n",
      "Round 28: 2775.05 ms\n",
      "Round 29: 2566.90 ms\n",
      "Round 30: 2466.79 ms\n",
      "Round 31: 2466.69 ms\n",
      "Round 32: 2297.22 ms\n",
      "Round 33: 2296.25 ms\n",
      "Round 34: 2300.99 ms\n",
      "Round 35: 2338.92 ms\n",
      "Round 36: 2325.08 ms\n",
      "Round 37: 2332.12 ms\n",
      "Round 38: 2371.54 ms\n",
      "Round 39: 2281.61 ms\n",
      "Round 40: 2279.12 ms\n",
      "Round 41: 2479.11 ms\n",
      "Round 42: 2391.74 ms\n",
      "Round 43: 2420.39 ms\n",
      "Round 44: 2725.08 ms\n",
      "Round 45: 2675.19 ms\n",
      "Round 46: 2499.85 ms\n",
      "Round 47: 2502.25 ms\n",
      "Round 48: 2586.65 ms\n",
      "Round 49: 2504.20 ms\n",
      "Round 50: 2526.25 ms\n",
      "Round 51: 2649.70 ms\n",
      "Round 52: 2596.57 ms\n",
      "Round 53: 2538.93 ms\n",
      "Round 54: 2494.41 ms\n",
      "Round 55: 2417.17 ms\n",
      "Round 56: 2565.08 ms\n",
      "Round 57: 2400.46 ms\n",
      "Round 58: 2364.64 ms\n",
      "Round 59: 2430.07 ms\n",
      "Round 60: 2328.10 ms\n",
      "Round 61: 2354.88 ms\n",
      "Round 62: 2427.19 ms\n",
      "Round 63: 2399.88 ms\n",
      "Round 64: 2315.43 ms\n",
      "Round 65: 2289.32 ms\n",
      "Round 66: 2268.89 ms\n",
      "Round 67: 2405.63 ms\n",
      "Round 68: 2359.07 ms\n",
      "Round 69: 2438.25 ms\n",
      "Round 70: 2287.82 ms\n",
      "Round 71: 2355.25 ms\n",
      "Round 72: 2368.80 ms\n",
      "Round 73: 2372.85 ms\n",
      "Round 74: 2322.61 ms\n",
      "Round 75: 2282.48 ms\n",
      "Round 76: 2374.21 ms\n",
      "Round 77: 2286.31 ms\n",
      "Round 78: 2488.32 ms\n",
      "Round 79: 2466.98 ms\n",
      "Round 80: 2405.00 ms\n",
      "Round 81: 2338.66 ms\n",
      "Round 82: 2457.15 ms\n",
      "Round 83: 2457.39 ms\n",
      "Round 84: 2480.19 ms\n",
      "Round 85: 2462.27 ms\n",
      "Round 86: 2350.75 ms\n",
      "Round 87: 2322.22 ms\n",
      "Round 88: 2382.83 ms\n",
      "Round 89: 2351.46 ms\n",
      "Round 90: 2334.42 ms\n",
      "Round 91: 2369.28 ms\n",
      "Round 92: 2323.04 ms\n",
      "Round 93: 2334.65 ms\n",
      "Round 94: 2371.30 ms\n",
      "Round 95: 2339.73 ms\n",
      "Round 96: 2293.75 ms\n",
      "Round 97: 2353.09 ms\n",
      "Round 98: 2295.17 ms\n",
      "Round 99: 2382.59 ms\n",
      "Round 100: 2309.28 ms\n",
      "Total time: 240.96 seconds\n"
     ]
    }
   ],
   "execution_count": 234
  },
  {
   "metadata": {
    "ExecuteTime": {
     "end_time": "2024-10-20T17:20:37.589756Z",
     "start_time": "2024-10-20T17:20:37.586145Z"
    }
   },
   "cell_type": "code",
   "source": [
    "print(final_clusters.shape)\n",
    "print(final_clusters)"
   ],
   "id": "ff9e30326a4c491c",
   "outputs": [
    {
     "name": "stdout",
     "output_type": "stream",
     "text": [
      "(1200, 1920)\n",
      "[[ 9  9  9 ...  6  6  6]\n",
      " [ 9 12  9 ...  6  6  6]\n",
      " [ 9  9  9 ...  6  6  6]\n",
      " ...\n",
      " [15 15 15 ... 15  2  2]\n",
      " [15 15 15 ... 15  2  2]\n",
      " [15 15 15 ... 15  2  2]]\n"
     ]
    }
   ],
   "execution_count": 235
  },
  {
   "metadata": {
    "ExecuteTime": {
     "end_time": "2024-10-20T17:20:41.556573Z",
     "start_time": "2024-10-20T17:20:41.553265Z"
    }
   },
   "cell_type": "code",
   "source": [
    "print(final_color_centers.shape)\n",
    "print(final_color_centers)"
   ],
   "id": "97387e474b5386a7",
   "outputs": [
    {
     "name": "stdout",
     "output_type": "stream",
     "text": [
      "(32, 2)\n",
      "[[ 426 1001]\n",
      " [ 606  884]\n",
      " [ 518  982]\n",
      " [ 810  608]\n",
      " [ 424 1002]\n",
      " [ 507  916]\n",
      " [ 599  941]\n",
      " [ 375 1043]\n",
      " [ 531  883]\n",
      " [ 481  844]\n",
      " [ 476  995]\n",
      " [ 401 1220]\n",
      " [ 536  901]\n",
      " [ 591  942]\n",
      " [ 453 1047]\n",
      " [ 739  832]\n",
      " [ 482  957]\n",
      " [ 405 1063]\n",
      " [ 742  642]\n",
      " [ 461 1011]\n",
      " [ 504 1050]\n",
      " [ 764  672]\n",
      " [ 700  836]\n",
      " [ 662  979]\n",
      " [ 395 1149]\n",
      " [ 492  925]\n",
      " [ 673 1568]\n",
      " [ 434 1098]\n",
      " [ 353 1239]\n",
      " [ 470  747]\n",
      " [ 463 1291]\n",
      " [ 800  550]]\n"
     ]
    }
   ],
   "execution_count": 236
  },
  {
   "metadata": {
    "ExecuteTime": {
     "end_time": "2024-10-20T17:20:43.839446Z",
     "start_time": "2024-10-20T17:20:43.835621Z"
    }
   },
   "cell_type": "code",
   "source": [
    "final_colors = image_matrix[final_color_centers[:, 0], final_color_centers[:, 1], :]\n",
    "print(final_colors.shape)\n",
    "print(final_colors)"
   ],
   "id": "307aeda27e8b5bb1",
   "outputs": [
    {
     "name": "stdout",
     "output_type": "stream",
     "text": [
      "(32, 3)\n",
      "[[ 33 100 152]\n",
      " [  7  34 103]\n",
      " [ 23 117 171]\n",
      " [  3   8  30]\n",
      " [ 64 147 189]\n",
      " [100 222 255]\n",
      " [ 11  64 180]\n",
      " [ 48 155 211]\n",
      " [ 45 167 234]\n",
      " [  8  50  90]\n",
      " [ 42 106 134]\n",
      " [  4   0  57]\n",
      " [ 82 198 221]\n",
      " [  7  55 166]\n",
      " [  0   0   4]\n",
      " [  4  24  51]\n",
      " [  0   2  14]\n",
      " [  2   2   4]\n",
      " [  2  14  72]\n",
      " [  2  12  48]\n",
      " [  0  97 204]\n",
      " [  0  22  98]\n",
      " [ 47 183 235]\n",
      " [ 27 108 223]\n",
      " [  7   1   5]\n",
      " [ 13  36  86]\n",
      " [  1  55   6]\n",
      " [  5   2   9]\n",
      " [  0   7   5]\n",
      " [ 22  98 184]\n",
      " [ 29 105 201]\n",
      " [  3  22 124]]\n"
     ]
    }
   ],
   "execution_count": 237
  },
  {
   "metadata": {
    "ExecuteTime": {
     "end_time": "2024-10-20T17:20:45.417805Z",
     "start_time": "2024-10-20T17:20:45.412593Z"
    }
   },
   "cell_type": "code",
   "source": [
    "quantized_image_matrix = np.zeros((image_matrix.shape[0], image_matrix.shape[1], 3), dtype=np.uint8)\n",
    "print(quantized_image_matrix.shape)\n",
    "print(quantized_image_matrix)"
   ],
   "id": "14464291d079970d",
   "outputs": [
    {
     "name": "stdout",
     "output_type": "stream",
     "text": [
      "(1200, 1920, 3)\n",
      "[[[0 0 0]\n",
      "  [0 0 0]\n",
      "  [0 0 0]\n",
      "  ...\n",
      "  [0 0 0]\n",
      "  [0 0 0]\n",
      "  [0 0 0]]\n",
      "\n",
      " [[0 0 0]\n",
      "  [0 0 0]\n",
      "  [0 0 0]\n",
      "  ...\n",
      "  [0 0 0]\n",
      "  [0 0 0]\n",
      "  [0 0 0]]\n",
      "\n",
      " [[0 0 0]\n",
      "  [0 0 0]\n",
      "  [0 0 0]\n",
      "  ...\n",
      "  [0 0 0]\n",
      "  [0 0 0]\n",
      "  [0 0 0]]\n",
      "\n",
      " ...\n",
      "\n",
      " [[0 0 0]\n",
      "  [0 0 0]\n",
      "  [0 0 0]\n",
      "  ...\n",
      "  [0 0 0]\n",
      "  [0 0 0]\n",
      "  [0 0 0]]\n",
      "\n",
      " [[0 0 0]\n",
      "  [0 0 0]\n",
      "  [0 0 0]\n",
      "  ...\n",
      "  [0 0 0]\n",
      "  [0 0 0]\n",
      "  [0 0 0]]\n",
      "\n",
      " [[0 0 0]\n",
      "  [0 0 0]\n",
      "  [0 0 0]\n",
      "  ...\n",
      "  [0 0 0]\n",
      "  [0 0 0]\n",
      "  [0 0 0]]]\n"
     ]
    }
   ],
   "execution_count": 238
  },
  {
   "metadata": {
    "ExecuteTime": {
     "end_time": "2024-10-20T17:20:46.898916Z",
     "start_time": "2024-10-20T17:20:46.865458Z"
    }
   },
   "cell_type": "code",
   "source": [
    "quantized_image_matrix = final_colors[final_clusters]\n",
    "print(quantized_image_matrix.shape)\n",
    "print(quantized_image_matrix)"
   ],
   "id": "453ee630179e1ef6",
   "outputs": [
    {
     "name": "stdout",
     "output_type": "stream",
     "text": [
      "(1200, 1920, 3)\n",
      "[[[  8  50  90]\n",
      "  [  8  50  90]\n",
      "  [  8  50  90]\n",
      "  ...\n",
      "  [ 11  64 180]\n",
      "  [ 11  64 180]\n",
      "  [ 11  64 180]]\n",
      "\n",
      " [[  8  50  90]\n",
      "  [ 82 198 221]\n",
      "  [  8  50  90]\n",
      "  ...\n",
      "  [ 11  64 180]\n",
      "  [ 11  64 180]\n",
      "  [ 11  64 180]]\n",
      "\n",
      " [[  8  50  90]\n",
      "  [  8  50  90]\n",
      "  [  8  50  90]\n",
      "  ...\n",
      "  [ 11  64 180]\n",
      "  [ 11  64 180]\n",
      "  [ 11  64 180]]\n",
      "\n",
      " ...\n",
      "\n",
      " [[  4  24  51]\n",
      "  [  4  24  51]\n",
      "  [  4  24  51]\n",
      "  ...\n",
      "  [  4  24  51]\n",
      "  [ 23 117 171]\n",
      "  [ 23 117 171]]\n",
      "\n",
      " [[  4  24  51]\n",
      "  [  4  24  51]\n",
      "  [  4  24  51]\n",
      "  ...\n",
      "  [  4  24  51]\n",
      "  [ 23 117 171]\n",
      "  [ 23 117 171]]\n",
      "\n",
      " [[  4  24  51]\n",
      "  [  4  24  51]\n",
      "  [  4  24  51]\n",
      "  ...\n",
      "  [  4  24  51]\n",
      "  [ 23 117 171]\n",
      "  [ 23 117 171]]]\n"
     ]
    }
   ],
   "execution_count": 239
  },
  {
   "metadata": {
    "ExecuteTime": {
     "end_time": "2024-10-20T17:20:49.218776Z",
     "start_time": "2024-10-20T17:20:48.843423Z"
    }
   },
   "cell_type": "code",
   "source": [
    "# Convert the final quantized image matrix to an image\n",
    "quantized_image = Image.fromarray(quantized_image_matrix.astype(np.uint8))\n",
    "\n",
    "# Display the quantized image\n",
    "quantized_image.show()"
   ],
   "id": "e35d3ea135123cac",
   "outputs": [],
   "execution_count": 240
  },
  {
   "metadata": {},
   "cell_type": "code",
   "outputs": [],
   "execution_count": null,
   "source": "",
   "id": "92c82d3b46d5980c"
  },
  {
   "metadata": {},
   "cell_type": "code",
   "outputs": [],
   "execution_count": null,
   "source": "",
   "id": "7ee0058a27abe168"
  },
  {
   "metadata": {},
   "cell_type": "code",
   "outputs": [],
   "execution_count": null,
   "source": "",
   "id": "42c449f4a69e0344"
  },
  {
   "metadata": {},
   "cell_type": "code",
   "outputs": [],
   "execution_count": null,
   "source": "",
   "id": "4ce719390fce2b1c"
  },
  {
   "metadata": {},
   "cell_type": "code",
   "outputs": [],
   "execution_count": null,
   "source": "",
   "id": "4192c708d3f03b81"
  },
  {
   "metadata": {
    "ExecuteTime": {
     "end_time": "2024-10-20T14:06:33.729460Z",
     "start_time": "2024-10-20T14:06:33.725378Z"
    }
   },
   "cell_type": "code",
   "source": [
    "print(initial_color_centers.shape)\n",
    "print(initial_color_centers)"
   ],
   "id": "74f48f8057d8c84a",
   "outputs": [
    {
     "name": "stdout",
     "output_type": "stream",
     "text": [
      "(32, 2)\n",
      "[[ 428  871]\n",
      " [1034 1856]\n",
      " [ 385  462]\n",
      " [ 622 1695]\n",
      " [ 912  760]\n",
      " [ 520  965]\n",
      " [ 176   94]\n",
      " [ 571  463]\n",
      " [ 370  355]\n",
      " [ 430 1740]\n",
      " [ 734 1262]\n",
      " [ 235 1780]\n",
      " [ 186  277]\n",
      " [ 940 1695]\n",
      " [ 105  805]\n",
      " [ 807 1468]\n",
      " [ 118  133]\n",
      " [1103  801]\n",
      " [ 499  425]\n",
      " [  40 1657]\n",
      " [1002  767]\n",
      " [  16 1493]\n",
      " [   7 1130]\n",
      " [ 709 1094]\n",
      " [ 147 1047]\n",
      " [ 583  202]\n",
      " [ 245 1489]\n",
      " [ 546 1308]\n",
      " [ 164  309]\n",
      " [ 777 1833]\n",
      " [ 800  975]\n",
      " [ 631 1028]]\n"
     ]
    }
   ],
   "execution_count": 201
  },
  {
   "metadata": {
    "ExecuteTime": {
     "end_time": "2024-10-20T09:20:53.309983Z",
     "start_time": "2024-10-20T09:20:53.305530Z"
    }
   },
   "cell_type": "code",
   "source": "image_matrix.dtype",
   "id": "abc768d6d0d53a2c",
   "outputs": [
    {
     "data": {
      "text/plain": [
       "dtype('uint8')"
      ]
     },
     "execution_count": 156,
     "metadata": {},
     "output_type": "execute_result"
    }
   ],
   "execution_count": 156
  },
  {
   "metadata": {},
   "cell_type": "code",
   "outputs": [],
   "execution_count": null,
   "source": "",
   "id": "97f80fac4117ca08"
  },
  {
   "metadata": {
    "ExecuteTime": {
     "end_time": "2024-10-20T07:10:20.384152Z",
     "start_time": "2024-10-20T07:10:20.381222Z"
    }
   },
   "cell_type": "code",
   "source": [
    "# Initialize a cluster map with the same shape of the image where each\n",
    "# coordinate (pixel) stores the index of the cluster it belongs to\n",
    "initial_clusters = np.zeros(image_matrix.shape[0:2], image_matrix.dtype)"
   ],
   "id": "f8533168eacb75ab",
   "outputs": [],
   "execution_count": 131
  },
  {
   "metadata": {
    "ExecuteTime": {
     "end_time": "2024-10-20T07:12:04.234866Z",
     "start_time": "2024-10-20T07:12:04.232336Z"
    }
   },
   "cell_type": "code",
   "source": [
    "final_clusters = None\n",
    "final_centers = None"
   ],
   "id": "1684668a916bbace",
   "outputs": [],
   "execution_count": 133
  },
  {
   "metadata": {
    "ExecuteTime": {
     "end_time": "2024-10-20T07:21:46.550130Z",
     "start_time": "2024-10-20T07:21:46.547463Z"
    }
   },
   "cell_type": "code",
   "source": [
    "input_clusters = initial_clusters\n",
    "input_color_centers = initial_color_centers"
   ],
   "id": "c404ead5668bf36e",
   "outputs": [],
   "execution_count": 134
  },
  {
   "metadata": {
    "ExecuteTime": {
     "end_time": "2024-10-20T07:25:51.703448Z",
     "start_time": "2024-10-20T07:25:51.700385Z"
    }
   },
   "cell_type": "code",
   "source": "input_colors = image_matrix[input_color_centers[:, 0], input_color_centers[:, 1], :]",
   "id": "d04594569b03c9ac",
   "outputs": [],
   "execution_count": 140
  },
  {
   "metadata": {
    "ExecuteTime": {
     "end_time": "2024-10-20T12:44:40.074495Z",
     "start_time": "2024-10-20T12:44:40.070739Z"
    }
   },
   "cell_type": "code",
   "source": [
    "print(input_colors.shape)\n",
    "print(input_colors)"
   ],
   "id": "2e8b8578b4b373d3",
   "outputs": [
    {
     "name": "stdout",
     "output_type": "stream",
     "text": [
      "(8, 3)\n",
      "[[  5  34  12]\n",
      " [  2  74  70]\n",
      " [  9  71 148]\n",
      " [  3  20   4]\n",
      " [  4  69 187]\n",
      " [106 209  66]\n",
      " [  1 167  41]\n",
      " [ 10 173 116]]\n"
     ]
    }
   ],
   "execution_count": 175
  },
  {
   "metadata": {
    "ExecuteTime": {
     "end_time": "2024-10-20T07:49:14.332064Z",
     "start_time": "2024-10-20T07:49:14.326822Z"
    }
   },
   "cell_type": "code",
   "source": "image_matrix.shape",
   "id": "c59d96fb21c698ff",
   "outputs": [
    {
     "data": {
      "text/plain": [
       "(1200, 1920, 3)"
      ]
     },
     "execution_count": 144,
     "metadata": {},
     "output_type": "execute_result"
    }
   ],
   "execution_count": 144
  },
  {
   "metadata": {
    "ExecuteTime": {
     "end_time": "2024-10-20T07:49:31.823413Z",
     "start_time": "2024-10-20T07:49:31.819334Z"
    }
   },
   "cell_type": "code",
   "source": "input_colors.shape",
   "id": "4fdfbe348d2d4f5e",
   "outputs": [
    {
     "data": {
      "text/plain": [
       "(8, 3)"
      ]
     },
     "execution_count": 145,
     "metadata": {},
     "output_type": "execute_result"
    }
   ],
   "execution_count": 145
  },
  {
   "metadata": {
    "ExecuteTime": {
     "end_time": "2024-10-20T12:46:02.338383Z",
     "start_time": "2024-10-20T12:46:02.321696Z"
    }
   },
   "cell_type": "code",
   "source": [
    "broadcast_image_matrix = image_matrix[:, :, np.newaxis, :].astype(dtype=np.int64)\n",
    "print(broadcast_image_matrix.shape)\n",
    "print(broadcast_image_matrix)"
   ],
   "id": "5a9960bd8de4bc71",
   "outputs": [
    {
     "name": "stdout",
     "output_type": "stream",
     "text": [
      "(1200, 1920, 1, 3)\n",
      "[[[[  1 130 110]]\n",
      "\n",
      "  [[  0 126 106]]\n",
      "\n",
      "  [[  2 129 110]]\n",
      "\n",
      "  ...\n",
      "\n",
      "  [[  3  38   5]]\n",
      "\n",
      "  [[  3  39   3]]\n",
      "\n",
      "  [[ 10  46  10]]]\n",
      "\n",
      "\n",
      " [[[  0 123 104]]\n",
      "\n",
      "  [[  0 119 100]]\n",
      "\n",
      "  [[  0 123 105]]\n",
      "\n",
      "  ...\n",
      "\n",
      "  [[  3  38   5]]\n",
      "\n",
      "  [[  3  39   3]]\n",
      "\n",
      "  [[ 10  46  10]]]\n",
      "\n",
      "\n",
      " [[[  0 123 103]]\n",
      "\n",
      "  [[  0 120 100]]\n",
      "\n",
      "  [[  4 125 106]]\n",
      "\n",
      "  ...\n",
      "\n",
      "  [[  3  41   4]]\n",
      "\n",
      "  [[  3  41   4]]\n",
      "\n",
      "  [[ 10  48  11]]]\n",
      "\n",
      "\n",
      " ...\n",
      "\n",
      "\n",
      " [[[  7  19   7]]\n",
      "\n",
      "  [[  1  13   1]]\n",
      "\n",
      "  [[  2  14   2]]\n",
      "\n",
      "  ...\n",
      "\n",
      "  [[  1   2   4]]\n",
      "\n",
      "  [[  3   4   6]]\n",
      "\n",
      "  [[  6   7   9]]]\n",
      "\n",
      "\n",
      " [[[  7  19   7]]\n",
      "\n",
      "  [[  1  13   1]]\n",
      "\n",
      "  [[  2  14   2]]\n",
      "\n",
      "  ...\n",
      "\n",
      "  [[  0   1   3]]\n",
      "\n",
      "  [[  2   3   5]]\n",
      "\n",
      "  [[  6   7   9]]]\n",
      "\n",
      "\n",
      " [[[  7  19   7]]\n",
      "\n",
      "  [[  1  13   1]]\n",
      "\n",
      "  [[  3  15   3]]\n",
      "\n",
      "  ...\n",
      "\n",
      "  [[  0   1   3]]\n",
      "\n",
      "  [[  2   3   5]]\n",
      "\n",
      "  [[  5   6   8]]]]\n"
     ]
    }
   ],
   "execution_count": 176
  },
  {
   "metadata": {
    "ExecuteTime": {
     "end_time": "2024-10-20T12:47:40.630981Z",
     "start_time": "2024-10-20T12:47:40.627036Z"
    }
   },
   "cell_type": "code",
   "source": [
    "broadcast_input_colors = input_colors[np.newaxis, np.newaxis, :, :].astype(dtype=np.int64)\n",
    "print(broadcast_input_colors.shape)\n",
    "print(broadcast_input_colors)"
   ],
   "id": "9bdb74f7c6654445",
   "outputs": [
    {
     "name": "stdout",
     "output_type": "stream",
     "text": [
      "(1, 1, 8, 3)\n",
      "[[[[  5  34  12]\n",
      "   [  2  74  70]\n",
      "   [  9  71 148]\n",
      "   [  3  20   4]\n",
      "   [  4  69 187]\n",
      "   [106 209  66]\n",
      "   [  1 167  41]\n",
      "   [ 10 173 116]]]]\n"
     ]
    }
   ],
   "execution_count": 178
  },
  {
   "metadata": {
    "ExecuteTime": {
     "end_time": "2024-10-20T12:49:02.073270Z",
     "start_time": "2024-10-20T12:49:01.730322Z"
    }
   },
   "cell_type": "code",
   "source": [
    "color_distances = broadcast_image_matrix - broadcast_input_colors\n",
    "print(color_distances.shape)\n",
    "print(color_distances)"
   ],
   "id": "c9de282679e68e1f",
   "outputs": [
    {
     "name": "stdout",
     "output_type": "stream",
     "text": [
      "(1200, 1920, 8, 3)\n",
      "[[[[  -4   96   98]\n",
      "   [  -1   56   40]\n",
      "   [  -8   59  -38]\n",
      "   ...\n",
      "   [-105  -79   44]\n",
      "   [   0  -37   69]\n",
      "   [  -9  -43   -6]]\n",
      "\n",
      "  [[  -5   92   94]\n",
      "   [  -2   52   36]\n",
      "   [  -9   55  -42]\n",
      "   ...\n",
      "   [-106  -83   40]\n",
      "   [  -1  -41   65]\n",
      "   [ -10  -47  -10]]\n",
      "\n",
      "  [[  -3   95   98]\n",
      "   [   0   55   40]\n",
      "   [  -7   58  -38]\n",
      "   ...\n",
      "   [-104  -80   44]\n",
      "   [   1  -38   69]\n",
      "   [  -8  -44   -6]]\n",
      "\n",
      "  ...\n",
      "\n",
      "  [[  -2    4   -7]\n",
      "   [   1  -36  -65]\n",
      "   [  -6  -33 -143]\n",
      "   ...\n",
      "   [-103 -171  -61]\n",
      "   [   2 -129  -36]\n",
      "   [  -7 -135 -111]]\n",
      "\n",
      "  [[  -2    5   -9]\n",
      "   [   1  -35  -67]\n",
      "   [  -6  -32 -145]\n",
      "   ...\n",
      "   [-103 -170  -63]\n",
      "   [   2 -128  -38]\n",
      "   [  -7 -134 -113]]\n",
      "\n",
      "  [[   5   12   -2]\n",
      "   [   8  -28  -60]\n",
      "   [   1  -25 -138]\n",
      "   ...\n",
      "   [ -96 -163  -56]\n",
      "   [   9 -121  -31]\n",
      "   [   0 -127 -106]]]\n",
      "\n",
      "\n",
      " [[[  -5   89   92]\n",
      "   [  -2   49   34]\n",
      "   [  -9   52  -44]\n",
      "   ...\n",
      "   [-106  -86   38]\n",
      "   [  -1  -44   63]\n",
      "   [ -10  -50  -12]]\n",
      "\n",
      "  [[  -5   85   88]\n",
      "   [  -2   45   30]\n",
      "   [  -9   48  -48]\n",
      "   ...\n",
      "   [-106  -90   34]\n",
      "   [  -1  -48   59]\n",
      "   [ -10  -54  -16]]\n",
      "\n",
      "  [[  -5   89   93]\n",
      "   [  -2   49   35]\n",
      "   [  -9   52  -43]\n",
      "   ...\n",
      "   [-106  -86   39]\n",
      "   [  -1  -44   64]\n",
      "   [ -10  -50  -11]]\n",
      "\n",
      "  ...\n",
      "\n",
      "  [[  -2    4   -7]\n",
      "   [   1  -36  -65]\n",
      "   [  -6  -33 -143]\n",
      "   ...\n",
      "   [-103 -171  -61]\n",
      "   [   2 -129  -36]\n",
      "   [  -7 -135 -111]]\n",
      "\n",
      "  [[  -2    5   -9]\n",
      "   [   1  -35  -67]\n",
      "   [  -6  -32 -145]\n",
      "   ...\n",
      "   [-103 -170  -63]\n",
      "   [   2 -128  -38]\n",
      "   [  -7 -134 -113]]\n",
      "\n",
      "  [[   5   12   -2]\n",
      "   [   8  -28  -60]\n",
      "   [   1  -25 -138]\n",
      "   ...\n",
      "   [ -96 -163  -56]\n",
      "   [   9 -121  -31]\n",
      "   [   0 -127 -106]]]\n",
      "\n",
      "\n",
      " [[[  -5   89   91]\n",
      "   [  -2   49   33]\n",
      "   [  -9   52  -45]\n",
      "   ...\n",
      "   [-106  -86   37]\n",
      "   [  -1  -44   62]\n",
      "   [ -10  -50  -13]]\n",
      "\n",
      "  [[  -5   86   88]\n",
      "   [  -2   46   30]\n",
      "   [  -9   49  -48]\n",
      "   ...\n",
      "   [-106  -89   34]\n",
      "   [  -1  -47   59]\n",
      "   [ -10  -53  -16]]\n",
      "\n",
      "  [[  -1   91   94]\n",
      "   [   2   51   36]\n",
      "   [  -5   54  -42]\n",
      "   ...\n",
      "   [-102  -84   40]\n",
      "   [   3  -42   65]\n",
      "   [  -6  -48  -10]]\n",
      "\n",
      "  ...\n",
      "\n",
      "  [[  -2    7   -8]\n",
      "   [   1  -33  -66]\n",
      "   [  -6  -30 -144]\n",
      "   ...\n",
      "   [-103 -168  -62]\n",
      "   [   2 -126  -37]\n",
      "   [  -7 -132 -112]]\n",
      "\n",
      "  [[  -2    7   -8]\n",
      "   [   1  -33  -66]\n",
      "   [  -6  -30 -144]\n",
      "   ...\n",
      "   [-103 -168  -62]\n",
      "   [   2 -126  -37]\n",
      "   [  -7 -132 -112]]\n",
      "\n",
      "  [[   5   14   -1]\n",
      "   [   8  -26  -59]\n",
      "   [   1  -23 -137]\n",
      "   ...\n",
      "   [ -96 -161  -55]\n",
      "   [   9 -119  -30]\n",
      "   [   0 -125 -105]]]\n",
      "\n",
      "\n",
      " ...\n",
      "\n",
      "\n",
      " [[[   2  -15   -5]\n",
      "   [   5  -55  -63]\n",
      "   [  -2  -52 -141]\n",
      "   ...\n",
      "   [ -99 -190  -59]\n",
      "   [   6 -148  -34]\n",
      "   [  -3 -154 -109]]\n",
      "\n",
      "  [[  -4  -21  -11]\n",
      "   [  -1  -61  -69]\n",
      "   [  -8  -58 -147]\n",
      "   ...\n",
      "   [-105 -196  -65]\n",
      "   [   0 -154  -40]\n",
      "   [  -9 -160 -115]]\n",
      "\n",
      "  [[  -3  -20  -10]\n",
      "   [   0  -60  -68]\n",
      "   [  -7  -57 -146]\n",
      "   ...\n",
      "   [-104 -195  -64]\n",
      "   [   1 -153  -39]\n",
      "   [  -8 -159 -114]]\n",
      "\n",
      "  ...\n",
      "\n",
      "  [[  -4  -32   -8]\n",
      "   [  -1  -72  -66]\n",
      "   [  -8  -69 -144]\n",
      "   ...\n",
      "   [-105 -207  -62]\n",
      "   [   0 -165  -37]\n",
      "   [  -9 -171 -112]]\n",
      "\n",
      "  [[  -2  -30   -6]\n",
      "   [   1  -70  -64]\n",
      "   [  -6  -67 -142]\n",
      "   ...\n",
      "   [-103 -205  -60]\n",
      "   [   2 -163  -35]\n",
      "   [  -7 -169 -110]]\n",
      "\n",
      "  [[   1  -27   -3]\n",
      "   [   4  -67  -61]\n",
      "   [  -3  -64 -139]\n",
      "   ...\n",
      "   [-100 -202  -57]\n",
      "   [   5 -160  -32]\n",
      "   [  -4 -166 -107]]]\n",
      "\n",
      "\n",
      " [[[   2  -15   -5]\n",
      "   [   5  -55  -63]\n",
      "   [  -2  -52 -141]\n",
      "   ...\n",
      "   [ -99 -190  -59]\n",
      "   [   6 -148  -34]\n",
      "   [  -3 -154 -109]]\n",
      "\n",
      "  [[  -4  -21  -11]\n",
      "   [  -1  -61  -69]\n",
      "   [  -8  -58 -147]\n",
      "   ...\n",
      "   [-105 -196  -65]\n",
      "   [   0 -154  -40]\n",
      "   [  -9 -160 -115]]\n",
      "\n",
      "  [[  -3  -20  -10]\n",
      "   [   0  -60  -68]\n",
      "   [  -7  -57 -146]\n",
      "   ...\n",
      "   [-104 -195  -64]\n",
      "   [   1 -153  -39]\n",
      "   [  -8 -159 -114]]\n",
      "\n",
      "  ...\n",
      "\n",
      "  [[  -5  -33   -9]\n",
      "   [  -2  -73  -67]\n",
      "   [  -9  -70 -145]\n",
      "   ...\n",
      "   [-106 -208  -63]\n",
      "   [  -1 -166  -38]\n",
      "   [ -10 -172 -113]]\n",
      "\n",
      "  [[  -3  -31   -7]\n",
      "   [   0  -71  -65]\n",
      "   [  -7  -68 -143]\n",
      "   ...\n",
      "   [-104 -206  -61]\n",
      "   [   1 -164  -36]\n",
      "   [  -8 -170 -111]]\n",
      "\n",
      "  [[   1  -27   -3]\n",
      "   [   4  -67  -61]\n",
      "   [  -3  -64 -139]\n",
      "   ...\n",
      "   [-100 -202  -57]\n",
      "   [   5 -160  -32]\n",
      "   [  -4 -166 -107]]]\n",
      "\n",
      "\n",
      " [[[   2  -15   -5]\n",
      "   [   5  -55  -63]\n",
      "   [  -2  -52 -141]\n",
      "   ...\n",
      "   [ -99 -190  -59]\n",
      "   [   6 -148  -34]\n",
      "   [  -3 -154 -109]]\n",
      "\n",
      "  [[  -4  -21  -11]\n",
      "   [  -1  -61  -69]\n",
      "   [  -8  -58 -147]\n",
      "   ...\n",
      "   [-105 -196  -65]\n",
      "   [   0 -154  -40]\n",
      "   [  -9 -160 -115]]\n",
      "\n",
      "  [[  -2  -19   -9]\n",
      "   [   1  -59  -67]\n",
      "   [  -6  -56 -145]\n",
      "   ...\n",
      "   [-103 -194  -63]\n",
      "   [   2 -152  -38]\n",
      "   [  -7 -158 -113]]\n",
      "\n",
      "  ...\n",
      "\n",
      "  [[  -5  -33   -9]\n",
      "   [  -2  -73  -67]\n",
      "   [  -9  -70 -145]\n",
      "   ...\n",
      "   [-106 -208  -63]\n",
      "   [  -1 -166  -38]\n",
      "   [ -10 -172 -113]]\n",
      "\n",
      "  [[  -3  -31   -7]\n",
      "   [   0  -71  -65]\n",
      "   [  -7  -68 -143]\n",
      "   ...\n",
      "   [-104 -206  -61]\n",
      "   [   1 -164  -36]\n",
      "   [  -8 -170 -111]]\n",
      "\n",
      "  [[   0  -28   -4]\n",
      "   [   3  -68  -62]\n",
      "   [  -4  -65 -140]\n",
      "   ...\n",
      "   [-101 -203  -58]\n",
      "   [   4 -161  -33]\n",
      "   [  -5 -167 -108]]]]\n"
     ]
    }
   ],
   "execution_count": 179
  },
  {
   "metadata": {
    "ExecuteTime": {
     "end_time": "2024-10-20T12:51:06.981059Z",
     "start_time": "2024-10-20T12:51:06.744925Z"
    }
   },
   "cell_type": "code",
   "source": [
    "color_distances = color_distances**2\n",
    "print(color_distances.shape)\n",
    "print(color_distances)"
   ],
   "id": "70a6fbf2d3a074d7",
   "outputs": [
    {
     "name": "stdout",
     "output_type": "stream",
     "text": [
      "(1200, 1920, 8, 3)\n",
      "[[[[   16  9216  9604]\n",
      "   [    1  3136  1600]\n",
      "   [   64  3481  1444]\n",
      "   ...\n",
      "   [11025  6241  1936]\n",
      "   [    0  1369  4761]\n",
      "   [   81  1849    36]]\n",
      "\n",
      "  [[   25  8464  8836]\n",
      "   [    4  2704  1296]\n",
      "   [   81  3025  1764]\n",
      "   ...\n",
      "   [11236  6889  1600]\n",
      "   [    1  1681  4225]\n",
      "   [  100  2209   100]]\n",
      "\n",
      "  [[    9  9025  9604]\n",
      "   [    0  3025  1600]\n",
      "   [   49  3364  1444]\n",
      "   ...\n",
      "   [10816  6400  1936]\n",
      "   [    1  1444  4761]\n",
      "   [   64  1936    36]]\n",
      "\n",
      "  ...\n",
      "\n",
      "  [[    4    16    49]\n",
      "   [    1  1296  4225]\n",
      "   [   36  1089 20449]\n",
      "   ...\n",
      "   [10609 29241  3721]\n",
      "   [    4 16641  1296]\n",
      "   [   49 18225 12321]]\n",
      "\n",
      "  [[    4    25    81]\n",
      "   [    1  1225  4489]\n",
      "   [   36  1024 21025]\n",
      "   ...\n",
      "   [10609 28900  3969]\n",
      "   [    4 16384  1444]\n",
      "   [   49 17956 12769]]\n",
      "\n",
      "  [[   25   144     4]\n",
      "   [   64   784  3600]\n",
      "   [    1   625 19044]\n",
      "   ...\n",
      "   [ 9216 26569  3136]\n",
      "   [   81 14641   961]\n",
      "   [    0 16129 11236]]]\n",
      "\n",
      "\n",
      " [[[   25  7921  8464]\n",
      "   [    4  2401  1156]\n",
      "   [   81  2704  1936]\n",
      "   ...\n",
      "   [11236  7396  1444]\n",
      "   [    1  1936  3969]\n",
      "   [  100  2500   144]]\n",
      "\n",
      "  [[   25  7225  7744]\n",
      "   [    4  2025   900]\n",
      "   [   81  2304  2304]\n",
      "   ...\n",
      "   [11236  8100  1156]\n",
      "   [    1  2304  3481]\n",
      "   [  100  2916   256]]\n",
      "\n",
      "  [[   25  7921  8649]\n",
      "   [    4  2401  1225]\n",
      "   [   81  2704  1849]\n",
      "   ...\n",
      "   [11236  7396  1521]\n",
      "   [    1  1936  4096]\n",
      "   [  100  2500   121]]\n",
      "\n",
      "  ...\n",
      "\n",
      "  [[    4    16    49]\n",
      "   [    1  1296  4225]\n",
      "   [   36  1089 20449]\n",
      "   ...\n",
      "   [10609 29241  3721]\n",
      "   [    4 16641  1296]\n",
      "   [   49 18225 12321]]\n",
      "\n",
      "  [[    4    25    81]\n",
      "   [    1  1225  4489]\n",
      "   [   36  1024 21025]\n",
      "   ...\n",
      "   [10609 28900  3969]\n",
      "   [    4 16384  1444]\n",
      "   [   49 17956 12769]]\n",
      "\n",
      "  [[   25   144     4]\n",
      "   [   64   784  3600]\n",
      "   [    1   625 19044]\n",
      "   ...\n",
      "   [ 9216 26569  3136]\n",
      "   [   81 14641   961]\n",
      "   [    0 16129 11236]]]\n",
      "\n",
      "\n",
      " [[[   25  7921  8281]\n",
      "   [    4  2401  1089]\n",
      "   [   81  2704  2025]\n",
      "   ...\n",
      "   [11236  7396  1369]\n",
      "   [    1  1936  3844]\n",
      "   [  100  2500   169]]\n",
      "\n",
      "  [[   25  7396  7744]\n",
      "   [    4  2116   900]\n",
      "   [   81  2401  2304]\n",
      "   ...\n",
      "   [11236  7921  1156]\n",
      "   [    1  2209  3481]\n",
      "   [  100  2809   256]]\n",
      "\n",
      "  [[    1  8281  8836]\n",
      "   [    4  2601  1296]\n",
      "   [   25  2916  1764]\n",
      "   ...\n",
      "   [10404  7056  1600]\n",
      "   [    9  1764  4225]\n",
      "   [   36  2304   100]]\n",
      "\n",
      "  ...\n",
      "\n",
      "  [[    4    49    64]\n",
      "   [    1  1089  4356]\n",
      "   [   36   900 20736]\n",
      "   ...\n",
      "   [10609 28224  3844]\n",
      "   [    4 15876  1369]\n",
      "   [   49 17424 12544]]\n",
      "\n",
      "  [[    4    49    64]\n",
      "   [    1  1089  4356]\n",
      "   [   36   900 20736]\n",
      "   ...\n",
      "   [10609 28224  3844]\n",
      "   [    4 15876  1369]\n",
      "   [   49 17424 12544]]\n",
      "\n",
      "  [[   25   196     1]\n",
      "   [   64   676  3481]\n",
      "   [    1   529 18769]\n",
      "   ...\n",
      "   [ 9216 25921  3025]\n",
      "   [   81 14161   900]\n",
      "   [    0 15625 11025]]]\n",
      "\n",
      "\n",
      " ...\n",
      "\n",
      "\n",
      " [[[    4   225    25]\n",
      "   [   25  3025  3969]\n",
      "   [    4  2704 19881]\n",
      "   ...\n",
      "   [ 9801 36100  3481]\n",
      "   [   36 21904  1156]\n",
      "   [    9 23716 11881]]\n",
      "\n",
      "  [[   16   441   121]\n",
      "   [    1  3721  4761]\n",
      "   [   64  3364 21609]\n",
      "   ...\n",
      "   [11025 38416  4225]\n",
      "   [    0 23716  1600]\n",
      "   [   81 25600 13225]]\n",
      "\n",
      "  [[    9   400   100]\n",
      "   [    0  3600  4624]\n",
      "   [   49  3249 21316]\n",
      "   ...\n",
      "   [10816 38025  4096]\n",
      "   [    1 23409  1521]\n",
      "   [   64 25281 12996]]\n",
      "\n",
      "  ...\n",
      "\n",
      "  [[   16  1024    64]\n",
      "   [    1  5184  4356]\n",
      "   [   64  4761 20736]\n",
      "   ...\n",
      "   [11025 42849  3844]\n",
      "   [    0 27225  1369]\n",
      "   [   81 29241 12544]]\n",
      "\n",
      "  [[    4   900    36]\n",
      "   [    1  4900  4096]\n",
      "   [   36  4489 20164]\n",
      "   ...\n",
      "   [10609 42025  3600]\n",
      "   [    4 26569  1225]\n",
      "   [   49 28561 12100]]\n",
      "\n",
      "  [[    1   729     9]\n",
      "   [   16  4489  3721]\n",
      "   [    9  4096 19321]\n",
      "   ...\n",
      "   [10000 40804  3249]\n",
      "   [   25 25600  1024]\n",
      "   [   16 27556 11449]]]\n",
      "\n",
      "\n",
      " [[[    4   225    25]\n",
      "   [   25  3025  3969]\n",
      "   [    4  2704 19881]\n",
      "   ...\n",
      "   [ 9801 36100  3481]\n",
      "   [   36 21904  1156]\n",
      "   [    9 23716 11881]]\n",
      "\n",
      "  [[   16   441   121]\n",
      "   [    1  3721  4761]\n",
      "   [   64  3364 21609]\n",
      "   ...\n",
      "   [11025 38416  4225]\n",
      "   [    0 23716  1600]\n",
      "   [   81 25600 13225]]\n",
      "\n",
      "  [[    9   400   100]\n",
      "   [    0  3600  4624]\n",
      "   [   49  3249 21316]\n",
      "   ...\n",
      "   [10816 38025  4096]\n",
      "   [    1 23409  1521]\n",
      "   [   64 25281 12996]]\n",
      "\n",
      "  ...\n",
      "\n",
      "  [[   25  1089    81]\n",
      "   [    4  5329  4489]\n",
      "   [   81  4900 21025]\n",
      "   ...\n",
      "   [11236 43264  3969]\n",
      "   [    1 27556  1444]\n",
      "   [  100 29584 12769]]\n",
      "\n",
      "  [[    9   961    49]\n",
      "   [    0  5041  4225]\n",
      "   [   49  4624 20449]\n",
      "   ...\n",
      "   [10816 42436  3721]\n",
      "   [    1 26896  1296]\n",
      "   [   64 28900 12321]]\n",
      "\n",
      "  [[    1   729     9]\n",
      "   [   16  4489  3721]\n",
      "   [    9  4096 19321]\n",
      "   ...\n",
      "   [10000 40804  3249]\n",
      "   [   25 25600  1024]\n",
      "   [   16 27556 11449]]]\n",
      "\n",
      "\n",
      " [[[    4   225    25]\n",
      "   [   25  3025  3969]\n",
      "   [    4  2704 19881]\n",
      "   ...\n",
      "   [ 9801 36100  3481]\n",
      "   [   36 21904  1156]\n",
      "   [    9 23716 11881]]\n",
      "\n",
      "  [[   16   441   121]\n",
      "   [    1  3721  4761]\n",
      "   [   64  3364 21609]\n",
      "   ...\n",
      "   [11025 38416  4225]\n",
      "   [    0 23716  1600]\n",
      "   [   81 25600 13225]]\n",
      "\n",
      "  [[    4   361    81]\n",
      "   [    1  3481  4489]\n",
      "   [   36  3136 21025]\n",
      "   ...\n",
      "   [10609 37636  3969]\n",
      "   [    4 23104  1444]\n",
      "   [   49 24964 12769]]\n",
      "\n",
      "  ...\n",
      "\n",
      "  [[   25  1089    81]\n",
      "   [    4  5329  4489]\n",
      "   [   81  4900 21025]\n",
      "   ...\n",
      "   [11236 43264  3969]\n",
      "   [    1 27556  1444]\n",
      "   [  100 29584 12769]]\n",
      "\n",
      "  [[    9   961    49]\n",
      "   [    0  5041  4225]\n",
      "   [   49  4624 20449]\n",
      "   ...\n",
      "   [10816 42436  3721]\n",
      "   [    1 26896  1296]\n",
      "   [   64 28900 12321]]\n",
      "\n",
      "  [[    0   784    16]\n",
      "   [    9  4624  3844]\n",
      "   [   16  4225 19600]\n",
      "   ...\n",
      "   [10201 41209  3364]\n",
      "   [   16 25921  1089]\n",
      "   [   25 27889 11664]]]]\n"
     ]
    }
   ],
   "execution_count": 180
  },
  {
   "metadata": {
    "ExecuteTime": {
     "end_time": "2024-10-20T12:53:09.439815Z",
     "start_time": "2024-10-20T12:53:09.210774Z"
    }
   },
   "cell_type": "code",
   "source": [
    "color_distances = np.sum(color_distances, axis=3)\n",
    "print(color_distances.shape)\n",
    "print(color_distances)"
   ],
   "id": "65dad19db772eedb",
   "outputs": [
    {
     "name": "stdout",
     "output_type": "stream",
     "text": [
      "(1200, 1920, 8)\n",
      "[[[18836  4737  4989 ... 19202  6130  1966]\n",
      "  [17325  4004  4870 ... 19725  5907  2409]\n",
      "  [18638  4625  4857 ... 19152  6206  2036]\n",
      "  ...\n",
      "  [   69  5522 21574 ... 43571 17941 30595]\n",
      "  [  110  5715 22085 ... 43478 17832 30774]\n",
      "  [  173  4448 19670 ... 38921 15683 27365]]\n",
      "\n",
      " [[16410  3561  4721 ... 20076  5906  2744]\n",
      "  [14994  2929  4689 ... 20492  5786  3272]\n",
      "  [16595  3630  4634 ... 20153  6033  2721]\n",
      "  ...\n",
      "  [   69  5522 21574 ... 43571 17941 30595]\n",
      "  [  110  5715 22085 ... 43478 17832 30774]\n",
      "  [  173  4448 19670 ... 38921 15683 27365]]\n",
      "\n",
      " [[16227  3494  4810 ... 20001  5781  2769]\n",
      "  [15165  3020  4786 ... 20313  5691  3165]\n",
      "  [17118  3901  4705 ... 19060  5998  2440]\n",
      "  ...\n",
      "  [  117  5446 21672 ... 42677 17249 30017]\n",
      "  [  117  5446 21672 ... 42677 17249 30017]\n",
      "  [  222  4221 19299 ... 38162 15142 26650]]\n",
      "\n",
      " ...\n",
      "\n",
      " [[  254  7019 22589 ... 49382 23096 35606]\n",
      "  [  578  8483 25037 ... 53666 25316 38906]\n",
      "  [  509  8224 24614 ... 52937 24931 38341]\n",
      "  ...\n",
      "  [ 1104  9541 25561 ... 57718 28594 41866]\n",
      "  [  940  8997 24689 ... 56234 27798 40710]\n",
      "  [  739  8226 23426 ... 54053 26649 39021]]\n",
      "\n",
      " [[  254  7019 22589 ... 49382 23096 35606]\n",
      "  [  578  8483 25037 ... 53666 25316 38906]\n",
      "  [  509  8224 24614 ... 52937 24931 38341]\n",
      "  ...\n",
      "  [ 1195  9822 26006 ... 58469 29001 42453]\n",
      "  [ 1019  9266 25122 ... 56973 28193 41285]\n",
      "  [  739  8226 23426 ... 54053 26649 39021]]\n",
      "\n",
      " [[  254  7019 22589 ... 49382 23096 35606]\n",
      "  [  578  8483 25037 ... 53666 25316 38906]\n",
      "  [  446  7971 24197 ... 52214 24552 37782]\n",
      "  ...\n",
      "  [ 1195  9822 26006 ... 58469 29001 42453]\n",
      "  [ 1019  9266 25122 ... 56973 28193 41285]\n",
      "  [  800  8477 23841 ... 54774 27026 39578]]]\n"
     ]
    }
   ],
   "execution_count": 181
  },
  {
   "metadata": {
    "ExecuteTime": {
     "end_time": "2024-10-20T13:00:03.551934Z",
     "start_time": "2024-10-20T13:00:03.549038Z"
    }
   },
   "cell_type": "code",
   "source": "print(color_distances[0, 1917, :])",
   "id": "8ec8215d9e22c1ba",
   "outputs": [
    {
     "name": "stdout",
     "output_type": "stream",
     "text": [
      "[   69  5522 21574   325 34086 43571 17941 30595]\n"
     ]
    }
   ],
   "execution_count": 190
  },
  {
   "metadata": {
    "ExecuteTime": {
     "end_time": "2024-10-20T12:54:24.639355Z",
     "start_time": "2024-10-20T12:54:24.616991Z"
    }
   },
   "cell_type": "code",
   "source": [
    "min_distances = np.argmin(color_distances, axis=2)\n",
    "print(min_distances.shape)\n",
    "print(min_distances)"
   ],
   "id": "d079b3bfec327905",
   "outputs": [
    {
     "name": "stdout",
     "output_type": "stream",
     "text": [
      "(1200, 1920)\n",
      "[[7 7 7 ... 0 0 0]\n",
      " [7 1 7 ... 0 0 0]\n",
      " [7 1 7 ... 0 0 0]\n",
      " ...\n",
      " [3 3 3 ... 3 3 3]\n",
      " [3 3 3 ... 3 3 3]\n",
      " [3 3 3 ... 3 3 3]]\n"
     ]
    }
   ],
   "execution_count": 182
  },
  {
   "metadata": {
    "ExecuteTime": {
     "end_time": "2024-10-20T13:13:46.067253Z",
     "start_time": "2024-10-20T13:13:46.044049Z"
    }
   },
   "cell_type": "code",
   "source": [
    "cluster_zero_coordinates = np.argwhere(min_distances == 0)\n",
    "print(cluster_zero_coordinates.shape)\n",
    "print(cluster_zero_coordinates)"
   ],
   "id": "4e338b87f28eb7da",
   "outputs": [
    {
     "name": "stdout",
     "output_type": "stream",
     "text": [
      "(406464, 2)\n",
      "[[   0   46]\n",
      " [   0   47]\n",
      " [   0   48]\n",
      " ...\n",
      " [1199  959]\n",
      " [1199 1302]\n",
      " [1199 1303]]\n"
     ]
    }
   ],
   "execution_count": 191
  },
  {
   "metadata": {
    "ExecuteTime": {
     "end_time": "2024-10-20T13:59:18.387896Z",
     "start_time": "2024-10-20T13:59:18.368666Z"
    }
   },
   "cell_type": "code",
   "source": [
    "new_cluster_zero_center = np.floor(np.mean(cluster_zero_coordinates, axis=0)).astype(np.int64)\n",
    "print(new_cluster_zero_center.shape)\n",
    "print(new_cluster_zero_center)"
   ],
   "id": "7d5dcab3bb53332",
   "outputs": [
    {
     "name": "stdout",
     "output_type": "stream",
     "text": [
      "(2,)\n",
      "[ 633 1051]\n"
     ]
    }
   ],
   "execution_count": 196
  },
  {
   "metadata": {
    "ExecuteTime": {
     "end_time": "2024-10-20T15:07:50.997568Z",
     "start_time": "2024-10-20T15:07:50.978309Z"
    }
   },
   "cell_type": "code",
   "source": "cluster_3_coordinates = np.argwhere(min_distances == 3)",
   "id": "a9d515e383fb4074",
   "outputs": [],
   "execution_count": 212
  },
  {
   "metadata": {
    "ExecuteTime": {
     "end_time": "2024-10-20T15:07:59.051528Z",
     "start_time": "2024-10-20T15:07:59.047771Z"
    }
   },
   "cell_type": "code",
   "source": "cluster_3_coordinates",
   "id": "b3c4258938e16832",
   "outputs": [
    {
     "data": {
      "text/plain": [
       "array([[   0,   97],\n",
       "       [   0,   98],\n",
       "       [   0,   99],\n",
       "       ...,\n",
       "       [1199, 1917],\n",
       "       [1199, 1918],\n",
       "       [1199, 1919]])"
      ]
     },
     "execution_count": 213,
     "metadata": {},
     "output_type": "execute_result"
    }
   ],
   "execution_count": 213
  },
  {
   "metadata": {
    "ExecuteTime": {
     "end_time": "2024-10-20T14:54:40.952952Z",
     "start_time": "2024-10-20T14:54:40.864482Z"
    }
   },
   "cell_type": "code",
   "source": [
    "new_cluster_centers = None\n",
    "\n",
    "for i in range(8):\n",
    "    cluster_i_coordinates = np.argwhere(min_distances == i)\n",
    "    new_cluster_i_center = np.floor(np.mean(cluster_i_coordinates, axis=0)).astype(np.int64)\n",
    "    if new_cluster_centers is None:\n",
    "        new_cluster_centers = new_cluster_i_center\n",
    "    else:\n",
    "        new_cluster_centers = np.vstack((new_cluster_centers, new_cluster_i_center))\n",
    "    \n",
    "print(new_cluster_centers.shape)\n",
    "print(new_cluster_centers)"
   ],
   "id": "48a03f0116165a7f",
   "outputs": [
    {
     "name": "stdout",
     "output_type": "stream",
     "text": [
      "(8, 2)\n",
      "[[ 633 1051]\n",
      " [ 503  766]\n",
      " [ 678  765]\n",
      " [ 670  872]\n",
      " [ 597  955]\n",
      " [ 670 1517]\n",
      " [ 538  824]\n",
      " [ 451  966]]\n"
     ]
    }
   ],
   "execution_count": 209
  },
  {
   "metadata": {
    "ExecuteTime": {
     "end_time": "2024-10-20T12:39:25.988784Z",
     "start_time": "2024-10-20T12:39:25.736419Z"
    }
   },
   "cell_type": "code",
   "source": "np.argmin(np.sum(one**2, axis=-1), axis=-1, keepdims=True)",
   "id": "18c3ef1f54761bfb",
   "outputs": [
    {
     "data": {
      "text/plain": [
       "array([[[7],\n",
       "        [7],\n",
       "        [7],\n",
       "        ...,\n",
       "        [0],\n",
       "        [0],\n",
       "        [0]],\n",
       "\n",
       "       [[7],\n",
       "        [1],\n",
       "        [7],\n",
       "        ...,\n",
       "        [0],\n",
       "        [0],\n",
       "        [0]],\n",
       "\n",
       "       [[7],\n",
       "        [1],\n",
       "        [7],\n",
       "        ...,\n",
       "        [0],\n",
       "        [0],\n",
       "        [0]],\n",
       "\n",
       "       ...,\n",
       "\n",
       "       [[3],\n",
       "        [3],\n",
       "        [3],\n",
       "        ...,\n",
       "        [3],\n",
       "        [3],\n",
       "        [3]],\n",
       "\n",
       "       [[3],\n",
       "        [3],\n",
       "        [3],\n",
       "        ...,\n",
       "        [3],\n",
       "        [3],\n",
       "        [3]],\n",
       "\n",
       "       [[3],\n",
       "        [3],\n",
       "        [3],\n",
       "        ...,\n",
       "        [3],\n",
       "        [3],\n",
       "        [3]]])"
      ]
     },
     "execution_count": 173,
     "metadata": {},
     "output_type": "execute_result"
    }
   ],
   "execution_count": 173
  },
  {
   "metadata": {},
   "cell_type": "code",
   "outputs": [],
   "execution_count": null,
   "source": "",
   "id": "562da466a026d4be"
  },
  {
   "metadata": {},
   "cell_type": "code",
   "outputs": [],
   "execution_count": null,
   "source": "",
   "id": "1f33afd2663cc48"
  },
  {
   "metadata": {},
   "cell_type": "code",
   "outputs": [],
   "execution_count": null,
   "source": "",
   "id": "d9f9883abd4d1151"
  },
  {
   "metadata": {},
   "cell_type": "code",
   "outputs": [],
   "execution_count": null,
   "source": "",
   "id": "594e517b5c5ffaa6"
  },
  {
   "metadata": {},
   "cell_type": "code",
   "outputs": [],
   "execution_count": null,
   "source": "",
   "id": "e894a82798baebba"
  }
 ],
 "metadata": {
  "kernelspec": {
   "display_name": "Python 3",
   "language": "python",
   "name": "python3"
  },
  "language_info": {
   "codemirror_mode": {
    "name": "ipython",
    "version": 2
   },
   "file_extension": ".py",
   "mimetype": "text/x-python",
   "name": "python",
   "nbconvert_exporter": "python",
   "pygments_lexer": "ipython2",
   "version": "2.7.6"
  }
 },
 "nbformat": 4,
 "nbformat_minor": 5
}
