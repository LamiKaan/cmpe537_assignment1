{
 "cells": [
  {
   "cell_type": "code",
   "id": "initial_id",
   "metadata": {
    "collapsed": true,
    "ExecuteTime": {
     "end_time": "2024-10-20T20:37:31.399228Z",
     "start_time": "2024-10-20T20:37:31.392394Z"
    }
   },
   "source": [
    "import os\n",
    "import numpy as np\n",
    "from PIL import Image\n",
    "import matplotlib.pyplot as plt\n",
    "\n",
    "image_name = \"birds3.jpg\"\n",
    "\n",
    "def get_path_for_image(image_name):\n",
    "    # Get directory of image files relative to this file's directory\n",
    "    image_dir = os.path.join(os.getcwd(), 'data', 'images', 'task_2')\n",
    "    # Get image path for the provided image id\n",
    "    image_path = os.path.join(image_dir, image_name)\n",
    "\n",
    "    return image_path\n",
    "\n",
    "def preprocess_image(image):\n",
    "    # Convert the image to grayscale (to work easily with scalar threshold instead of RGB vectors)\n",
    "    gray_image = image.convert('L')\n",
    "    \n",
    "    # Convert grayscale image to a numpy array\n",
    "    gray_image_matrix = np.array(gray_image)\n",
    "    \n",
    "    # Apply thresholding to create a binary image (0 or 1)\n",
    "    threshold = 128\n",
    "    # Make the birds (darker areas) one (1), and the background zero (0)\n",
    "    binary_image = (gray_image_matrix < threshold).astype(np.uint8)  \n",
    "    \n",
    "    return binary_image\n",
    "\n",
    "def count_connected_components(img):\n",
    "    # Preprocess image to convert it into binary form\n",
    "    binary_image = preprocess_image(img)\n",
    "    \n",
    "    # Start labeling components from 1\n",
    "    label = 1\n",
    "    # Matrix of the same shape as binary image which will store the label for each pixel\n",
    "    # Initially all zero (nothing labeled yet)\n",
    "    labels = np.zeros_like(binary_image, dtype=np.int32)\n",
    "    \n",
    "    # Define all possible directions to neighbors around a pixel\n",
    "    directions = [(-1, -1), (-1, 0), (-1, 1), (0, -1), (0, 1), (1, -1), (1, 0), (1, 1)]\n",
    "    \n",
    "    def depth_first_label(i, j, label):\n",
    "        # Stack to keep coordinates of the pixels that still need to be processed\n",
    "        # during the depth search first. Starts with the currently given input pixel.\n",
    "        stack = [(i, j)]\n",
    "        # Assign label to the current pixel\n",
    "        labels[i, j] = label\n",
    "        \n",
    "        while len(stack) > 0:\n",
    "            # Pop the top element of the stack\n",
    "            (x, y) = stack.pop()\n",
    "            # For each direction from the current pixel\n",
    "            for (dx, dy) in directions:\n",
    "                # Compute the coordinates of the neighboring pixel\n",
    "                (nx, ny) = (x + dx, y + dy)\n",
    "                # Check if the neighbor coordinates are within the bounds of the image\n",
    "                if 0 <= nx < binary_image.shape[0] and 0 <= ny < binary_image.shape[1]:\n",
    "                    # If the neighboring pixel is part of the foreground (1) and it hasn't\n",
    "                    # been label yet\n",
    "                    if binary_image[nx, ny] == 1 and labels[nx, ny] == 0:\n",
    "                        # Label it and add it to stack to later check its neighbors as well\n",
    "                        labels[nx, ny] = label\n",
    "                        stack.append((nx, ny))\n",
    "    \n",
    "    # Perform connected component labeling\n",
    "    for i in range(binary_image.shape[0]):\n",
    "        for j in range(binary_image.shape[1]):\n",
    "            # For each pixel, if it's foreground and hasn't been labeled before\n",
    "            if binary_image[i, j] == 1 and labels[i, j] == 0:\n",
    "                # Label all connected components\n",
    "                depth_first_label(i, j, label)\n",
    "                label += 1\n",
    "                \n",
    "    # Since we started labeling from 1, and increment after each connected component,\n",
    "    # number of object is final value of label minus one\n",
    "    num_components = label - 1\n",
    "    \n",
    "    return binary_image, num_components\n",
    "\n"
   ],
   "outputs": [],
   "execution_count": 27
  },
  {
   "metadata": {
    "ExecuteTime": {
     "end_time": "2024-10-20T20:37:32.301253Z",
     "start_time": "2024-10-20T20:37:32.142315Z"
    }
   },
   "cell_type": "code",
   "source": [
    "image_path = get_path_for_image(image_name)\n",
    "image = Image.open(image_path)\n",
    "binary_image, num_components = count_connected_components(image)\n",
    "\n",
    "# Display the binary image\n",
    "# plt.imshow(binary_image, cmap='gray')\n",
    "plt.imshow(binary_image)\n",
    "plt.show()"
   ],
   "id": "cffa78196f2fdd9a",
   "outputs": [
    {
     "data": {
      "text/plain": [
       "<Figure size 640x480 with 1 Axes>"
      ],
      "image/png": "[encoded data removed]"
     },
     "metadata": {},
     "output_type": "display_data"
    }
   ],
   "execution_count": 28
  },
  {
   "metadata": {
    "ExecuteTime": {
     "end_time": "2024-10-20T20:37:33.681969Z",
     "start_time": "2024-10-20T20:37:33.678784Z"
    }
   },
   "cell_type": "code",
   "source": "print(num_components)",
   "id": "59f7f9d4e2471145",
   "outputs": [
    {
     "name": "stdout",
     "output_type": "stream",
     "text": [
      "20\n"
     ]
    }
   ],
   "execution_count": 29
  },
  {
   "metadata": {},
   "cell_type": "code",
   "outputs": [],
   "execution_count": null,
   "source": "",
   "id": "efab2e79c47742ed"
  },
  {
   "metadata": {},
   "cell_type": "code",
   "outputs": [],
   "execution_count": null,
   "source": "",
   "id": "3cc1aa7abf337ed3"
  },
  {
   "metadata": {},
   "cell_type": "code",
   "outputs": [],
   "execution_count": null,
   "source": "",
   "id": "fa78daec9eeb1264"
  },
  {
   "metadata": {},
   "cell_type": "code",
   "outputs": [],
   "execution_count": null,
   "source": "",
   "id": "e8f713d6c99373ed"
  },
  {
   "metadata": {},
   "cell_type": "code",
   "outputs": [],
   "execution_count": null,
   "source": "",
   "id": "155d08936f419f5e"
  },
  {
   "metadata": {},
   "cell_type": "code",
   "outputs": [],
   "execution_count": null,
   "source": "",
   "id": "88e74e3afcc689f6"
  },
  {
   "metadata": {},
   "cell_type": "code",
   "outputs": [],
   "execution_count": null,
   "source": "",
   "id": "61ff604688941ac9"
  }
 ],
 "metadata": {
  "kernelspec": {
   "display_name": "Python 3",
   "language": "python",
   "name": "python3"
  },
  "language_info": {
   "codemirror_mode": {
    "name": "ipython",
    "version": 2
   },
   "file_extension": ".py",
   "mimetype": "text/x-python",
   "name": "python",
   "nbconvert_exporter": "python",
   "pygments_lexer": "ipython2",
   "version": "2.7.6"
  }
 },
 "nbformat": 4,
 "nbformat_minor": 5
}
